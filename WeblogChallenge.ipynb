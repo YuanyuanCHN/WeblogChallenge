{
 "cells": [
  {
   "cell_type": "markdown",
   "metadata": {},
   "source": [
    "# 1 Processing & Analytical\n",
    "\n",
    "\n",
    "1. Sessionize the web log by IP. Sessionize = aggregrate all page hits by visitor/IP during a fixed time window. https://en.wikipedia.org/wiki/Session_(web_analytics)\n",
    "\n",
    "2. Determine the average session time\n",
    "\n",
    "3. Determine unique URL visits per session. To clarify, count a hit to a unique URL only once per session.\n",
    "\n",
    "4. Find the most engaged users, ie the IPs with the longest session times"
   ]
  },
  {
   "cell_type": "code",
   "execution_count": 1,
   "metadata": {},
   "outputs": [],
   "source": [
    "from pyspark import SparkConf\n",
    "from pyspark import SparkContext\n",
    "from pyspark.sql import SQLContext\n",
    "import sys"
   ]
  },
  {
   "cell_type": "code",
   "execution_count": 2,
   "metadata": {},
   "outputs": [],
   "source": [
    "sc.stop()"
   ]
  },
  {
   "cell_type": "code",
   "execution_count": 3,
   "metadata": {},
   "outputs": [],
   "source": [
    "## start a session\n",
    "conf = SparkConf().setMaster(\"local\").setAppName(\"WebLog\")\n",
    "sc = SparkContext(conf = conf)\n",
    "sqlContext = SQLContext(sc)"
   ]
  },
  {
   "cell_type": "code",
   "execution_count": 4,
   "metadata": {},
   "outputs": [
    {
     "name": "stdout",
     "output_type": "stream",
     "text": [
      "+--------------------+------------+--------------------+\n",
      "|           TimeStamp|          IP|                 URL|\n",
      "+--------------------+------------+--------------------+\n",
      "|2015-07-22T10:45:...|1.186.101.79|https://paytm.com...|\n",
      "|2015-07-22T10:45:...|1.186.101.79|https://paytm.com...|\n",
      "|2015-07-22T10:46:...|1.186.101.79|https://paytm.com...|\n",
      "|2015-07-22T10:46:...|1.186.101.79|https://paytm.com...|\n",
      "|2015-07-22T10:47:...|1.186.101.79|https://paytm.com...|\n",
      "|2015-07-22T10:47:...|1.186.101.79|https://paytm.com...|\n",
      "|2015-07-22T10:47:...|1.186.101.79|https://paytm.com...|\n",
      "|2015-07-22T10:47:...|1.186.101.79|https://paytm.com...|\n",
      "|2015-07-22T10:47:...|1.186.101.79|https://paytm.com...|\n",
      "|2015-07-22T10:47:...|1.186.101.79|https://paytm.com...|\n",
      "|2015-07-22T10:47:...|1.186.101.79|https://paytm.com...|\n",
      "|2015-07-22T10:47:...|1.186.101.79|https://paytm.com...|\n",
      "|2015-07-22T10:47:...|1.186.101.79|https://paytm.com...|\n",
      "|2015-07-22T10:47:...|1.186.101.79|https://paytm.com...|\n",
      "|2015-07-22T10:47:...|1.186.101.79|https://paytm.com...|\n",
      "|2015-07-22T10:48:...|1.186.101.79|https://paytm.com...|\n",
      "|2015-07-22T10:48:...|1.186.101.79|https://paytm.com...|\n",
      "|2015-07-22T10:48:...|1.186.101.79|https://paytm.com...|\n",
      "|2015-07-22T10:48:...|1.186.101.79|https://paytm.com...|\n",
      "|2015-07-22T11:00:...|1.186.101.79|https://paytm.com...|\n",
      "+--------------------+------------+--------------------+\n",
      "only showing top 20 rows\n",
      "\n"
     ]
    }
   ],
   "source": [
    "## read in file\n",
    "raw_file = sc.textFile(\"2015_07_22_mktplace_shop_web_log_sample.log\")\n",
    "## processing raw file to get information needed\n",
    "web_log = raw_file.map(lambda line: line.split(\" \"))\n",
    "\n",
    "#Map RDD to a DF for better performance and convenience\n",
    "def process(line):\n",
    "    return [line[0],line[2].split(\":\")[0],line[12]]\n",
    "\n",
    "info_rdd = web_log.map(lambda line: process(line))\n",
    "\n",
    "## create data frame keep information will be used only\n",
    "df=sqlContext.createDataFrame(info_rdd,['TimeStamp','IP','URL'])\n",
    "\n",
    "## order by IP and time stamp for better observation\n",
    "df = df.orderBy([\"IP\", \"TimeStamp\"])\n",
    "df.show()"
   ]
  },
  {
   "cell_type": "markdown",
   "metadata": {},
   "source": [
    "## 1.1 Sessionize web log\n",
    "After reading the data, we get the observation that the web log covers the following information on which IP requested visiting what URL at what time.\n",
    "    \n",
    "Follow the instruction, we can sessionize using time instead of navigation. After investigate the data, we found that one IP will visit multiple URL at multiple time, sometimes there's huge time gap between two visit, which should not be consided as one session. \n",
    "\n",
    "In this case, for one IP if there's no more visit after 15 minutes, the user could be considered as inactive. The next visit should be considered as a start of another session."
   ]
  },
  {
   "cell_type": "code",
   "execution_count": 5,
   "metadata": {},
   "outputs": [
    {
     "data": {
      "text/plain": [
       "(1158500, 1158500)"
      ]
     },
     "execution_count": 5,
     "metadata": {},
     "output_type": "execute_result"
    }
   ],
   "source": [
    "## make sure the data have no duplications\n",
    "df.count(),df.dropDuplicates().count()"
   ]
  },
  {
   "cell_type": "code",
   "execution_count": 6,
   "metadata": {},
   "outputs": [],
   "source": [
    "from pyspark.sql.functions import *\n",
    "from pyspark.sql.types import *\n",
    "from pyspark.sql.window import Window"
   ]
  },
  {
   "cell_type": "code",
   "execution_count": 7,
   "metadata": {
    "scrolled": false
   },
   "outputs": [],
   "source": [
    "## change to time data type\n",
    "df = df.withColumn('TimeStamp', df['TimeStamp'].cast(TimestampType()))\n",
    "\n",
    "## move the time column by 1 lag to find the last visit for most of the rows\n",
    "w = Window().partitionBy('IP').orderBy('TimeStamp')\n",
    "df = df.withColumn(\"LastTime\", lag(\"TimeStamp\", 1).over(w))\n",
    "\n",
    "## calculate the different between this time stamp with last visit\n",
    "timeDiff = (unix_timestamp(df.TimeStamp)-unix_timestamp(df.LastTime))\n",
    "df = df.withColumn(\"TimeDiff\", timeDiff)\n",
    "\n",
    "## rank within each IP to find the first visit for each IP, and put the time difference to zero to analysis\n",
    "df =  df.withColumn(\"rank\", dense_rank().over(Window.partitionBy(\"IP\").orderBy(\"TimeStamp\")))\n",
    "#df = df.withColumn('TimeDiff',when((df.rank > 1), df.TimeDiff).otherwise(0))\n",
    "\n",
    "df = df.orderBy(['IP','TimeStamp'])\n",
    "#df.show(50)"
   ]
  },
  {
   "cell_type": "code",
   "execution_count": 8,
   "metadata": {},
   "outputs": [
    {
     "data": {
      "text/plain": [
       "(array([ 6891.,  2995.,  1273.,   550.,   394.,   865.,   727.,   713.,\n",
       "          624.,   557.,   573.,   762.,   640.,   520.,   513.,   409.,\n",
       "          583.,   614.,   566.,   476.]),\n",
       " array([ 100,  150,  200,  250,  300,  350,  400,  450,  500,  550,  600,\n",
       "         650,  700,  750,  800,  850,  900,  950, 1000, 1050, 1100]),\n",
       " <a list of 20 Patch objects>)"
      ]
     },
     "execution_count": 8,
     "metadata": {},
     "output_type": "execute_result"
    },
    {
     "data": {
      "image/png": "[encoded data removed]",
      "text/plain": [
       "<Figure size 432x288 with 1 Axes>"
      ]
     },
     "metadata": {},
     "output_type": "display_data"
    }
   ],
   "source": [
    "## Analysis the time difference distribution, breaking by 15 minutes looks okay at it's already in long tail\n",
    "import matplotlib.pyplot as plt\n",
    "%matplotlib inline\n",
    "\n",
    "bins, counts = df.filter((col('TimeDiff') >= 100 ) & (col('TimeDiff') <= 1100 )).select(col('TimeDiff')).rdd.flatMap(lambda x: x).histogram(20)\n",
    "plt.hist(bins[:-1], bins=bins, weights=counts)"
   ]
  },
  {
   "cell_type": "code",
   "execution_count": 9,
   "metadata": {},
   "outputs": [],
   "source": [
    "## breaking by 15 minutes looks okay, change the first row of reach IP to large value over 900 to break to session \n",
    "df = df.withColumn('TimeDiff',when((df.rank > 1), df.TimeDiff).otherwise(999))\n",
    "\n",
    "## each time when time differnece is larger than 15 minutes, give a different session ID\n",
    "df = df.withColumn('SessionID',when((df.TimeDiff > 15*60), monotonically_increasing_id()).otherwise(None))\n",
    "\n",
    "## fill the session ID by forward value to assign each row with session ID\n",
    "df = df.withColumn(\"SessionID\", last('SessionID', True).\\\n",
    "                   over(Window.partitionBy().orderBy().rowsBetween(-sys.maxsize, 0)))\n",
    "\n",
    "df = df.orderBy(['IP','TimeStamp'])\n",
    "#df.show(50)"
   ]
  },
  {
   "cell_type": "markdown",
   "metadata": {},
   "source": [
    "## 1.2 Determine the average session time"
   ]
  },
  {
   "cell_type": "code",
   "execution_count": 10,
   "metadata": {},
   "outputs": [],
   "source": [
    "## aggregate first/last visit by each session, and take the time difference\n",
    "Sess_time_df = df.groupBy(['IP',\"SessionID\"]).agg(max(\"TimeStamp\").alias(\"LastVisit\"),\\\n",
    "                                               min(\"TimeStamp\").alias(\"FirstVisit\"))\n",
    "\n",
    "timeDiff = (unix_timestamp(Sess_time_df.LastVisit)-unix_timestamp(Sess_time_df.FirstVisit))\n",
    "Sess_time_df = Sess_time_df.withColumn(\"SessionTime\", timeDiff)\n",
    "#Sess_time_df.show()"
   ]
  },
  {
   "cell_type": "code",
   "execution_count": 11,
   "metadata": {
    "scrolled": true
   },
   "outputs": [
    {
     "name": "stdout",
     "output_type": "stream",
     "text": [
      "+------------------+\n",
      "|  avg(SessionTime)|\n",
      "+------------------+\n",
      "|100.75318265890739|\n",
      "+------------------+\n",
      "\n"
     ]
    }
   ],
   "source": [
    "## calculate the average session time \n",
    "Sess_time_df.select(avg('SessionTime')).show()"
   ]
  },
  {
   "cell_type": "markdown",
   "metadata": {},
   "source": [
    "The Average seession time is around 100 seconds, which 1 minutes and 20 seconds."
   ]
  },
  {
   "cell_type": "markdown",
   "metadata": {},
   "source": [
    "## 1.3 Determine unique URL visits per session"
   ]
  },
  {
   "cell_type": "code",
   "execution_count": 12,
   "metadata": {},
   "outputs": [],
   "source": [
    "## Aggregate the distinct URL by session\n",
    "URL_df = df.groupBy(\"SessionID\").agg(countDistinct(\"URL\").alias(\"Unique_URL_cnt\"))\n",
    "#URL_df.show()"
   ]
  },
  {
   "cell_type": "code",
   "execution_count": 13,
   "metadata": {},
   "outputs": [
    {
     "name": "stdout",
     "output_type": "stream",
     "text": [
      "+-------------------+\n",
      "|avg(Unique_URL_cnt)|\n",
      "+-------------------+\n",
      "|  8.298515811792305|\n",
      "+-------------------+\n",
      "\n"
     ]
    }
   ],
   "source": [
    "## calculate the average unique URL visit  \n",
    "URL_df.select(avg('Unique_URL_cnt')).show()"
   ]
  },
  {
   "cell_type": "markdown",
   "metadata": {},
   "source": [
    "## 1.4 Find the most engaged users, ie the IPs with the longest session times"
   ]
  },
  {
   "cell_type": "code",
   "execution_count": 14,
   "metadata": {},
   "outputs": [
    {
     "data": {
      "text/plain": [
       "(110835, 110835)"
      ]
     },
     "execution_count": 14,
     "metadata": {},
     "output_type": "execute_result"
    }
   ],
   "source": [
    "URL_df.count(),Sess_time_df.count()"
   ]
  },
  {
   "cell_type": "code",
   "execution_count": 15,
   "metadata": {},
   "outputs": [],
   "source": [
    "## get table with both session time, and unique url with their IP\n",
    "Session_URL_df = URL_df.join(Sess_time_df, 'SessionID') # Could also use 'left_outer', the counts are the same\n",
    "#Session_URL_df.show()"
   ]
  },
  {
   "cell_type": "code",
   "execution_count": 16,
   "metadata": {},
   "outputs": [
    {
     "name": "stdout",
     "output_type": "stream",
     "text": [
      "+-------------+--------------+--------------+--------------------+--------------------+-----------+\n",
      "|    SessionID|Unique_URL_cnt|            IP|           LastVisit|          FirstVisit|SessionTime|\n",
      "+-------------+--------------+--------------+--------------------+--------------------+-----------+\n",
      "| 180388626435|             1| 106.186.23.95|2015-07-22 04:04:...|2015-07-22 03:30:...|       2069|\n",
      "|1468878815234|          9532|  52.74.219.71|2015-07-22 04:04:...|2015-07-22 03:30:...|       2069|\n",
      "| 884763262991|             6|  125.19.44.66|2015-07-22 04:04:...|2015-07-22 03:30:...|       2068|\n",
      "| 884763263082|             6|  125.20.39.66|2015-07-22 04:04:...|2015-07-22 03:30:...|       2068|\n",
      "|1065151889642|             5|180.211.69.209|2015-07-22 04:04:...|2015-07-22 03:30:...|       2067|\n",
      "|1176821039133|             5|  192.8.190.10|2015-07-22 04:04:...|2015-07-22 03:30:...|       2067|\n",
      "|1597727834117|             2| 54.251.151.39|2015-07-22 04:04:...|2015-07-22 03:30:...|       2067|\n",
      "| 730144440728|             6| 122.15.156.64|2015-07-22 04:04:...|2015-07-22 03:30:...|       2066|\n",
      "|1065151889476|            22|180.179.213.70|2015-07-22 04:04:...|2015-07-22 03:30:...|       2066|\n",
      "|1236950581464|             5|203.189.176.14|2015-07-22 04:04:...|2015-07-22 03:30:...|       2066|\n",
      "+-------------+--------------+--------------+--------------------+--------------------+-----------+\n",
      "\n"
     ]
    }
   ],
   "source": [
    "#the most engaged users with the longest session times\n",
    "Session_URL_df.sort(col(\"SessionTime\").desc()).limit(10).show()"
   ]
  },
  {
   "cell_type": "code",
   "execution_count": 17,
   "metadata": {},
   "outputs": [
    {
     "name": "stdout",
     "output_type": "stream",
     "text": [
      "+-------------+--------------+---------------+--------------------+--------------------+-----------+\n",
      "|    SessionID|Unique_URL_cnt|             IP|           LastVisit|          FirstVisit|SessionTime|\n",
      "+-------------+--------------+---------------+--------------------+--------------------+-----------+\n",
      "|1468878815232|          9532|   52.74.219.71|2015-07-22 00:00:...|2015-07-21 23:55:...|        300|\n",
      "| 644245094402|          8016|  119.235.55.19|2015-07-21 19:41:...|2015-07-21 19:40:...|         22|\n",
      "| 188978561027|          4656|  106.186.23.95|2015-07-22 11:03:...|2015-07-22 11:01:...|        117|\n",
      "| 635655159897|          3334|118.102.184.229|2015-07-22 03:49:...|2015-07-22 03:49:...|          4|\n",
      "|1503238553601|          2907|   52.74.219.71|2015-07-22 10:45:...|2015-07-22 10:40:...|        299|\n",
      "| 678604832768|          2841|  119.81.61.166|2015-07-22 14:10:...|2015-07-22 14:05:...|        299|\n",
      "| 180388626434|          2731|    103.8.148.4|2015-07-22 09:13:...|2015-07-22 09:13:...|          0|\n",
      "| 240518168853|          2609| 106.223.150.98|2015-07-22 09:10:...|2015-07-22 09:10:...|          0|\n",
      "|1460288880689|          2572|  49.248.84.211|2015-07-21 19:42:...|2015-07-21 19:40:...|        117|\n",
      "|1503238553600|          2535|   52.74.219.71|2015-07-22 09:44:...|2015-07-22 09:40:...|        260|\n",
      "+-------------+--------------+---------------+--------------------+--------------------+-----------+\n",
      "\n"
     ]
    }
   ],
   "source": [
    "#the most engaged users with the most unique URL visit\n",
    "Session_URL_df.sort(col(\"Unique_URL_cnt\").desc()).limit(10).show()"
   ]
  },
  {
   "cell_type": "markdown",
   "metadata": {},
   "source": [
    "The top IP's behavior looks quite abnormal"
   ]
  },
  {
   "cell_type": "markdown",
   "metadata": {},
   "source": [
    "# Additional questions for Machine Learning Engineer (MLE) candidates:\n",
    "\n",
    "1. Predict the expected load (requests/second) in the next minute\n",
    "\n",
    "2. Predict the session length for a given IP\n",
    "\n",
    "3. Predict the number of unique URL visits by a given IP\n"
   ]
  },
  {
   "cell_type": "markdown",
   "metadata": {},
   "source": [
    "## Predict the expected load (requests/second) in the next minute\n",
    "Get the load per minutes first"
   ]
  },
  {
   "cell_type": "code",
   "execution_count": 18,
   "metadata": {},
   "outputs": [
    {
     "name": "stdout",
     "output_type": "stream",
     "text": [
      "+--------------------+-----+\n",
      "|          TimeWindow|count|\n",
      "+--------------------+-----+\n",
      "|[2015-07-21 22:34...| null|\n",
      "|[2015-07-21 22:55...| null|\n",
      "|[2015-07-22 00:33...| null|\n",
      "|[2015-07-22 04:32...| null|\n",
      "|[2015-07-22 05:51...| null|\n",
      "|[2015-07-22 08:20...| null|\n",
      "|[2015-07-22 08:39...| null|\n",
      "|[2015-07-22 09:18...| null|\n",
      "|[2015-07-22 11:56...| null|\n",
      "|[2015-07-22 01:31...| null|\n",
      "|[2015-07-22 03:41...| null|\n",
      "|[2015-07-22 06:49...| null|\n",
      "|[2015-07-22 07:48...| null|\n",
      "|[2015-07-22 11:52...| null|\n",
      "|[2015-07-22 00:19...| null|\n",
      "|[2015-07-22 02:38...| null|\n",
      "|[2015-07-22 03:05...| null|\n",
      "|[2015-07-22 13:47...| null|\n",
      "|[2015-07-22 14:01...| null|\n",
      "|[2015-07-21 21:39...| null|\n",
      "+--------------------+-----+\n",
      "only showing top 20 rows\n",
      "\n"
     ]
    }
   ],
   "source": [
    "## form a time stamp with no gap in minute\n",
    "step = 60\n",
    "\n",
    "minp, maxp = df.select(min(\"TimeStamp\").cast(\"long\"),\\\n",
    "                       max(\"TimeStamp\").cast(\"long\")).first()\n",
    "\n",
    "Reference_df = sqlContext.range(\n",
    "    int((minp / step) * step), int(((maxp / step) + 1) * step), step\n",
    ").select(col(\"id\").cast(\"timestamp\").alias(\"TimeStamp\"))\n",
    "\n",
    "Reference_df = Reference_df.groupby(window(Reference_df['TimeStamp'], \"1 minutes\").alias(\"TimeWindow\")).min()\n",
    "\n",
    "## aggregate request by minutes\n",
    "Request_df = df.groupBy(window(df.TimeStamp, \"1 minutes\").alias(\"TimeWindow\")).count().alias(\"request_per_s\")\n",
    "\n",
    "## join with referance data frame to have a time series data with no gap\n",
    "ts_df = Reference_df.join(Request_df, [\"TimeWindow\"], \"leftouter\")\n",
    "ts_df.show()"
   ]
  },
  {
   "cell_type": "code",
   "execution_count": 19,
   "metadata": {},
   "outputs": [
    {
     "data": {
      "text/plain": [
       "(1112, 110)"
      ]
     },
     "execution_count": 19,
     "metadata": {},
     "output_type": "execute_result"
    }
   ],
   "source": [
    "Reference_df.count(),Request_df.count()"
   ]
  },
  {
   "cell_type": "markdown",
   "metadata": {},
   "source": [
    "### Problems and Solutions\n",
    "As the time series have too much missing value, which means the data could be a very small sample and it doesn't cover the whole time range. There are many missing time windows. It's not ideal to do time series with impute all the missing value. And as data have too much noise, we consider simple model like moving average first.\n",
    "\n",
    "Solution:\n",
    "* Aggregate count by seconds first, then aggregate average by minutes. Keep the data point have no less than 5 seconds only (the number 5 can be tune later if there's more time)\n",
    "* Keep data point that have more than 10% of the past data point, for example, if we using past 60 minutes' moving average, keep the data that have more than 6 data points (the percentage can be tune later if more time)\n",
    "* Try impute data using last data point\n",
    "* Use MAE as evaluation method, which is less likely to be influence by extreme values."
   ]
  },
  {
   "cell_type": "code",
   "execution_count": 20,
   "metadata": {},
   "outputs": [],
   "source": [
    "## count request by second\n",
    "seconds_df = df.groupBy(window(df.TimeStamp, '1 seconds').alias('TimeWindow'))\\\n",
    "                        .agg(min('TimeStamp').alias('minTimeStamp'),\\\n",
    "                             count('TimeStamp').alias('request_per_s'))\n",
    "    \n",
    "## aggregate average request to minutes\n",
    "minutes_df = seconds_df.groupBy(window(seconds_df.minTimeStamp, '1 minutes')\\\n",
    "                          .alias('TimeWindow')).agg(min('minTimeStamp').alias('minTimeStamp'),\\\n",
    "                                                    avg('request_per_s').alias('request_per_s'),\\\n",
    "                                                   count('minTimeStamp').alias('data_counts'))\n",
    "\n",
    "## remove the data point that have less than 5 data_counts for each minute\n",
    "#print('Before Remove',minutes_df.count())\n",
    "minutes_df = minutes_df.filter(col('data_counts') >= 5)\n",
    "\n",
    "#print('After Remove',minutes_df.count())"
   ]
  },
  {
   "cell_type": "code",
   "execution_count": 21,
   "metadata": {},
   "outputs": [],
   "source": [
    "## lable these rows\n",
    "minutes_df =  minutes_df.withColumn(\"flag\",lit(1))"
   ]
  },
  {
   "cell_type": "code",
   "execution_count": 22,
   "metadata": {},
   "outputs": [],
   "source": [
    "## join with referance data frame to have a time series data with no gap\n",
    "ts_df = Reference_df.join(minutes_df, [\"TimeWindow\"], \"leftouter\")\n",
    "#ts_df.show()\n",
    "\n",
    "## add index for each time window \n",
    "w = Window.orderBy(\"TimeWindow\")\n",
    "ts_df = ts_df.withColumn(\"index\", row_number().over(w))"
   ]
  },
  {
   "cell_type": "markdown",
   "metadata": {},
   "source": [
    "###  Moving average\n",
    "Try 60 minutes, 30 minutes, 15 minutes as example, number of minutes can be tune if more time"
   ]
  },
  {
   "cell_type": "code",
   "execution_count": 23,
   "metadata": {},
   "outputs": [],
   "source": [
    "for i in [60,30,15,5]:\n",
    "    w = Window.partitionBy().orderBy(\"index\").rowsBetween(-i, 0)\n",
    "    ts_df = ts_df.withColumn(\"cnt_\"+str(i),count(\"data_counts\").over(w)).\\\n",
    "                    withColumn(\"MA_\"+str(i),avg(\"request_per_s\").over(w))\n",
    "\n",
    "#ts_df.show()"
   ]
  },
  {
   "cell_type": "code",
   "execution_count": 24,
   "metadata": {},
   "outputs": [],
   "source": [
    "## keep the rows have enough confidence only\n",
    "ts_eval_df = ts_df.filter((col('cnt_60')>=6) & (col('cnt_15')>=2) & (col('cnt_30')>=3) & (col('cnt_5')>=1) & (col('flag') == 1)).\\\n",
    "            select(['request_per_s','MA_60','MA_30','MA_15','MA_5'])"
   ]
  },
  {
   "cell_type": "code",
   "execution_count": 26,
   "metadata": {},
   "outputs": [
    {
     "name": "stdout",
     "output_type": "stream",
     "text": [
      "MAE for MA_60 is :  67.26259132941499\n",
      "MAE for MA_30 is :  43.39540258765059\n",
      "MAE for MA_15 is :  30.578274818104443\n",
      "MAE for MA_5 is :  31.972368687607048\n"
     ]
    }
   ],
   "source": [
    "from pyspark.ml.evaluation import RegressionEvaluator \n",
    "## print out the MAE for each prediction methods, as it can make most people have better fit\n",
    "for col_name in ['MA_60','MA_30','MA_15','MA_5']:\n",
    "    dt_evaluator = RegressionEvaluator(labelCol=\"request_per_s\", predictionCol=col_name, metricName=\"mae\")\n",
    "    mae = dt_evaluator.evaluate(ts_eval_df)\n",
    "    print(\"MAE for \" + col_name + ' is : ', mae )"
   ]
  },
  {
   "cell_type": "markdown",
   "metadata": {},
   "source": [
    "### Try Fill NA with forward value"
   ]
  },
  {
   "cell_type": "code",
   "execution_count": 27,
   "metadata": {},
   "outputs": [],
   "source": [
    "## fillin NA \n",
    "ts_df = ts_df.withColumn(\"request_fill\",\\\n",
    "                 last('request_per_s', True).over(Window.partitionBy().orderBy('index').\\\n",
    "                                                  rowsBetween(-sys.maxsize, 0)))\n",
    "\n",
    "for i in [30,15,5]:\n",
    "    w = Window.partitionBy().orderBy(\"index\").rowsBetween(-i, 0)\n",
    "    ts_df = ts_df.withColumn(\"MA_Fill_\"+str(i),avg(\"request_fill\").over(w))"
   ]
  },
  {
   "cell_type": "code",
   "execution_count": 28,
   "metadata": {},
   "outputs": [],
   "source": [
    "## keep the rows have enough confidence only\n",
    "ts_eval_df2 = ts_df.filter((col('cnt_15') >= 2) & (col('cnt_30') >= 3) & (col('cnt_5') >= 1) & (col('flag') == 1)).\\\n",
    "                select(['request_per_s','MA_Fill_30','MA_Fill_15','MA_Fill_5'])"
   ]
  },
  {
   "cell_type": "code",
   "execution_count": 29,
   "metadata": {},
   "outputs": [
    {
     "name": "stdout",
     "output_type": "stream",
     "text": [
      "MAE for MA_Fill_30 is :  99.05302273589908\n",
      "MAE for MA_Fill_15 is :  77.49464208762735\n",
      "MAE for MA_Fill_5 is :  46.98280789402964\n"
     ]
    }
   ],
   "source": [
    "## print out the MAE for each prediction methods, as it can make most people have better fit\n",
    "for col_name in ['MA_Fill_30','MA_Fill_15','MA_Fill_5']:\n",
    "    dt_evaluator = RegressionEvaluator(labelCol=\"request_per_s\", predictionCol=col_name, metricName=\"mae\")\n",
    "    mae = dt_evaluator.evaluate(ts_eval_df2)\n",
    "    print(\"MAE for \" + col_name + ' is : ', mae )"
   ]
  },
  {
   "cell_type": "markdown",
   "metadata": {},
   "source": [
    "### Make prediction for next minutes\n",
    "As moving average with 15 minutes have the best performance above, we use the last 15 minutes to make the prediction\n"
   ]
  },
  {
   "cell_type": "code",
   "execution_count": 30,
   "metadata": {
    "collapsed": true
   },
   "outputs": [
    {
     "name": "stdout",
     "output_type": "stream",
     "text": [
      "+--------------------+--------------------+------------------+-----------+----+-----+------+------------------+------+------------------+------+------------------+-----+------------------+------------------+------------------+------------------+------------------+\n",
      "|          TimeWindow|        minTimeStamp|     request_per_s|data_counts|flag|index|cnt_60|             MA_60|cnt_30|             MA_30|cnt_15|             MA_15|cnt_5|              MA_5|      request_fill|        MA_Fill_30|        MA_Fill_15|         MA_Fill_5|\n",
      "+--------------------+--------------------+------------------+-----------+----+-----+------+------------------+------+------------------+------+------------------+-----+------------------+------------------+------------------+------------------+------------------+\n",
      "|[2015-07-22 13:57...|                null|              null|       null|null| 1098|     0|              null|     0|              null|     0|              null|    0|              null|1.3636363636363635|1.3636363636363644|1.3636363636363635|1.3636363636363635|\n",
      "|[2015-07-22 13:58...|                null|              null|       null|null| 1099|     0|              null|     0|              null|     0|              null|    0|              null|1.3636363636363635|1.3636363636363644|1.3636363636363635|1.3636363636363635|\n",
      "|[2015-07-22 13:59...|                null|              null|       null|null| 1100|     0|              null|     0|              null|     0|              null|    0|              null|1.3636363636363635|1.3636363636363644|1.3636363636363635|1.3636363636363635|\n",
      "|[2015-07-22 14:00...|                null|              null|       null|null| 1101|     0|              null|     0|              null|     0|              null|    0|              null|1.3636363636363635|1.3636363636363644|1.3636363636363635|1.3636363636363635|\n",
      "|[2015-07-22 14:01...|                null|              null|       null|null| 1102|     0|              null|     0|              null|     0|              null|    0|              null|1.3636363636363635|1.3636363636363644|1.3636363636363635|1.3636363636363635|\n",
      "|[2015-07-22 14:02...|                null|              null|       null|null| 1103|     0|              null|     0|              null|     0|              null|    0|              null|1.3636363636363635|1.3636363636363644|1.3636363636363635|1.3636363636363635|\n",
      "|[2015-07-22 14:03...|                null|              null|       null|null| 1104|     0|              null|     0|              null|     0|              null|    0|              null|1.3636363636363635|1.3636363636363644|1.3636363636363635|1.3636363636363635|\n",
      "|[2015-07-22 14:04...|                null|              null|       null|null| 1105|     0|              null|     0|              null|     0|              null|    0|              null|1.3636363636363635|1.3636363636363644|1.3636363636363635|1.3636363636363635|\n",
      "|[2015-07-22 14:05...|2015-07-22 14:05:...|122.27272727272727|         33|   1| 1106|     1|122.27272727272727|     1|122.27272727272727|     1|122.27272727272727|    1|122.27272727272727|122.27272727272727| 5.263929618768328| 8.920454545454545|21.515151515151516|\n",
      "|[2015-07-22 14:06...|2015-07-22 14:06:...|102.13333333333334|         60|   1| 1107|     2| 112.2030303030303|     2| 112.2030303030303|     2| 112.2030303030303|    2| 112.2030303030303|102.13333333333334| 8.514565004887585|15.218560606060606|38.310101010101015|\n",
      "|[2015-07-22 14:07...|2015-07-22 14:07:...|              55.0|         60|   1| 1108|     3| 93.13535353535353|     3| 93.13535353535353|     3| 93.13535353535353|    3| 93.13535353535353|              55.0|10.244770283479962|18.570833333333333| 47.24949494949495|\n",
      "|[2015-07-22 14:08...|2015-07-22 14:08:...|             86.05|         60|   1| 1109|     4| 91.36401515151515|     4| 91.36401515151515|     4| 91.36401515151515|    4| 91.36401515151515|             86.05|12.976588465298144| 23.86373106060606| 61.36388888888889|\n",
      "|[2015-07-22 14:09...|2015-07-22 14:09:...|             84.35|         60|   1| 1110|     5| 89.96121212121211|     5| 89.96121212121211|     5| 89.96121212121211|    5| 89.96121212121211|             84.35|15.653567937438904|29.050378787878785| 75.19494949494948|\n",
      "|[2015-07-22 14:10...|2015-07-22 14:10:...| 88.03571428571429|         28|   1| 1111|     6| 89.64029581529581|     6| 89.64029581529581|     6| 89.64029581529581|    6| 89.64029581529581| 88.03571428571429| 18.44944141879626|34.467383658008664| 89.64029581529581|\n",
      "|[2015-07-22 14:11...|                null|              null|       null|null| 1112|     6| 89.64029581529581|     6| 89.64029581529581|     6| 89.64029581529581|    5| 83.11380952380952| 88.03571428571429|21.245314900153613| 39.88438852813854| 83.93412698412698|\n",
      "+--------------------+--------------------+------------------+-----------+----+-----+------+------------------+------+------------------+------+------------------+-----+------------------+------------------+------------------+------------------+------------------+\n",
      "\n"
     ]
    }
   ],
   "source": [
    "last_15m_df = ts_df.filter(col('index') >= (1112-14))\n",
    "## check weather there's more than 2 data points for the last 15 minutes\n",
    "last_15m_df.show()"
   ]
  },
  {
   "cell_type": "code",
   "execution_count": 31,
   "metadata": {},
   "outputs": [
    {
     "name": "stdout",
     "output_type": "stream",
     "text": [
      "+-----------------+\n",
      "|       prediction|\n",
      "+-----------------+\n",
      "|89.64029581529581|\n",
      "+-----------------+\n",
      "\n"
     ]
    }
   ],
   "source": [
    "last_15m_df.select(avg('request_per_s').alias(\"prediction\")).show()"
   ]
  },
  {
   "cell_type": "markdown",
   "metadata": {},
   "source": [
    "## Predict the session length for a given IP\n",
    "\n",
    "As there's no other information available, we can only use IP, then we can use the mean/median for each IP as the best guess. And use the mean/median for all user as the best guess for IP showed first time. As the distribution is very skewed, it's better to use median."
   ]
  },
  {
   "cell_type": "code",
   "execution_count": 32,
   "metadata": {},
   "outputs": [
    {
     "data": {
      "text/plain": [
       "(array([  8.92660000e+04,   1.39040000e+04,   1.37100000e+03,\n",
       "          1.02400000e+03,   1.18100000e+03,   1.31100000e+03,\n",
       "          1.08800000e+03,   6.62000000e+02,   1.50000000e+02,\n",
       "          2.40000000e+01,   6.10000000e+01,   1.44000000e+02,\n",
       "          1.31000000e+02,   2.13000000e+02,   3.05000000e+02]),\n",
       " array([    0.        ,   137.93333333,   275.86666667,   413.8       ,\n",
       "          551.73333333,   689.66666667,   827.6       ,   965.53333333,\n",
       "         1103.46666667,  1241.4       ,  1379.33333333,  1517.26666667,\n",
       "         1655.2       ,  1793.13333333,  1931.06666667,  2069.        ]),\n",
       " <a list of 15 Patch objects>)"
      ]
     },
     "execution_count": 32,
     "metadata": {},
     "output_type": "execute_result"
    },
    {
     "data": {
      "image/png": "[encoded data removed]",
      "text/plain": [
       "<Figure size 432x288 with 1 Axes>"
      ]
     },
     "metadata": {},
     "output_type": "display_data"
    }
   ],
   "source": [
    "## plot the session lengh to check the distribution\n",
    "bins, counts = Session_URL_df.select(col('SessionTime')).rdd.flatMap(lambda x: x).histogram(15)\n",
    "plt.hist(bins[:-1], bins=bins, weights=counts)"
   ]
  },
  {
   "cell_type": "code",
   "execution_count": 33,
   "metadata": {},
   "outputs": [
    {
     "name": "stdout",
     "output_type": "stream",
     "text": [
      "+-------------+---------------+\n",
      "|           IP|MedianTime_byIP|\n",
      "+-------------+---------------+\n",
      "| 1.186.101.79|           1118|\n",
      "|1.186.103.240|             11|\n",
      "| 1.186.103.78|              9|\n",
      "|1.186.108.213|            113|\n",
      "|1.186.108.230|             19|\n",
      "|1.186.108.242|              3|\n",
      "| 1.186.108.28|              6|\n",
      "| 1.186.108.29|              5|\n",
      "| 1.186.108.79|              0|\n",
      "|1.186.111.224|            122|\n",
      "| 1.186.112.12|            201|\n",
      "| 1.186.112.52|             10|\n",
      "|1.186.114.135|            109|\n",
      "| 1.186.114.45|             15|\n",
      "|1.186.117.150|              0|\n",
      "| 1.186.128.57|             50|\n",
      "|1.186.129.213|            116|\n",
      "|1.186.135.123|             68|\n",
      "|1.186.135.254|             55|\n",
      "|1.186.138.134|              2|\n",
      "+-------------+---------------+\n",
      "only showing top 20 rows\n",
      "\n"
     ]
    }
   ],
   "source": [
    "# if the given ip has a record in the following table\n",
    "# the prediction for it's session length is the it's previous session's median\n",
    "SessTime_byIP_df = Session_URL_df.groupBy(\"IP\").agg(\n",
    "    expr('percentile_approx(SessionTime, 0.5)').alias('MedianTime_byIP'))\n",
    "SessTime_byIP_df.show()"
   ]
  },
  {
   "cell_type": "code",
   "execution_count": 34,
   "metadata": {},
   "outputs": [
    {
     "name": "stdout",
     "output_type": "stream",
     "text": [
      "+----------+\n",
      "|MedianTime|\n",
      "+----------+\n",
      "|        19|\n",
      "+----------+\n",
      "\n"
     ]
    }
   ],
   "source": [
    "# if the given ip has no record in the table\n",
    "# the prediction for it's session length is the overall session's average\n",
    "SessTime_default_df = Session_URL_df.agg(expr('percentile_approx(SessionTime, 0.5)').alias('MedianTime'))\n",
    "SessTime_default_df.show()"
   ]
  },
  {
   "cell_type": "markdown",
   "metadata": {},
   "source": [
    "### Predict the number of unique URL visits by a given IP\n",
    "Same as the question above. As there's no other information available, we can only use IP, then we can use the mean/mode for each IP as the best guess. And use the mean/mode for all user as the best guess for IP showed first time."
   ]
  },
  {
   "cell_type": "code",
   "execution_count": 36,
   "metadata": {},
   "outputs": [
    {
     "data": {
      "text/plain": [
       "(array([  1.05919000e+05,   1.20000000e+01,   9.00000000e+00,\n",
       "          2.10000000e+01,   8.00000000e+00,   2.00000000e+00,\n",
       "          4.00000000e+00,   3.00000000e+00,   1.00000000e+00,\n",
       "          0.00000000e+00,   4.00000000e+00,   2.00000000e+00,\n",
       "          1.00000000e+00,   0.00000000e+00,   0.00000000e+00,\n",
       "          0.00000000e+00,   0.00000000e+00,   0.00000000e+00,\n",
       "          0.00000000e+00,   0.00000000e+00,   0.00000000e+00,\n",
       "          0.00000000e+00,   1.00000000e+00,   0.00000000e+00,\n",
       "          0.00000000e+00,   0.00000000e+00,   0.00000000e+00,\n",
       "          0.00000000e+00,   0.00000000e+00,   0.00000000e+00,\n",
       "          0.00000000e+00,   0.00000000e+00,   0.00000000e+00,\n",
       "          0.00000000e+00,   0.00000000e+00,   0.00000000e+00,\n",
       "          0.00000000e+00,   0.00000000e+00,   0.00000000e+00,\n",
       "          1.00000000e+00]),\n",
       " array([  1.00000000e+00,   2.39275000e+02,   4.77550000e+02,\n",
       "          7.15825000e+02,   9.54100000e+02,   1.19237500e+03,\n",
       "          1.43065000e+03,   1.66892500e+03,   1.90720000e+03,\n",
       "          2.14547500e+03,   2.38375000e+03,   2.62202500e+03,\n",
       "          2.86030000e+03,   3.09857500e+03,   3.33685000e+03,\n",
       "          3.57512500e+03,   3.81340000e+03,   4.05167500e+03,\n",
       "          4.28995000e+03,   4.52822500e+03,   4.76650000e+03,\n",
       "          5.00477500e+03,   5.24305000e+03,   5.48132500e+03,\n",
       "          5.71960000e+03,   5.95787500e+03,   6.19615000e+03,\n",
       "          6.43442500e+03,   6.67270000e+03,   6.91097500e+03,\n",
       "          7.14925000e+03,   7.38752500e+03,   7.62580000e+03,\n",
       "          7.86407500e+03,   8.10235000e+03,   8.34062500e+03,\n",
       "          8.57890000e+03,   8.81717500e+03,   9.05545000e+03,\n",
       "          9.29372500e+03,   9.53200000e+03]),\n",
       " <a list of 40 Patch objects>)"
      ]
     },
     "execution_count": 36,
     "metadata": {},
     "output_type": "execute_result"
    },
    {
     "data": {
      "image/png": "[encoded data removed]",
      "text/plain": [
       "<Figure size 432x288 with 1 Axes>"
      ]
     },
     "metadata": {},
     "output_type": "display_data"
    }
   ],
   "source": [
    "## plot the session lengh to check the distribution\n",
    "bins, counts = Session_URL_df.select(col('Unique_URL_cnt')).rdd.flatMap(lambda x: x).histogram(40)\n",
    "plt.hist(bins[:-1], bins=bins, weights=counts)"
   ]
  },
  {
   "cell_type": "code",
   "execution_count": 37,
   "metadata": {
    "scrolled": false
   },
   "outputs": [
    {
     "name": "stdout",
     "output_type": "stream",
     "text": [
      "+-------------+-----------------+\n",
      "|           IP|MedianURLcnt_byIP|\n",
      "+-------------+-----------------+\n",
      "| 1.186.101.79|               12|\n",
      "|1.186.103.240|                5|\n",
      "| 1.186.103.78|                4|\n",
      "|1.186.108.213|                2|\n",
      "|1.186.108.230|                5|\n",
      "|1.186.108.242|                3|\n",
      "| 1.186.108.28|               80|\n",
      "| 1.186.108.29|                3|\n",
      "| 1.186.108.79|                3|\n",
      "|1.186.111.224|                9|\n",
      "| 1.186.112.12|                3|\n",
      "| 1.186.112.52|               16|\n",
      "|1.186.114.135|                2|\n",
      "| 1.186.114.45|                6|\n",
      "|1.186.117.150|                1|\n",
      "| 1.186.128.57|                8|\n",
      "|1.186.129.213|                6|\n",
      "|1.186.135.123|               11|\n",
      "|1.186.135.254|                5|\n",
      "|1.186.138.134|                2|\n",
      "+-------------+-----------------+\n",
      "only showing top 20 rows\n",
      "\n"
     ]
    }
   ],
   "source": [
    "# if the given ip has a record in the following table\n",
    "# the prediction for it's session length is the it's previous session's average\n",
    "URLcnt_byIP_df = Session_URL_df.groupBy(\"IP\").agg(expr('percentile_approx(Unique_URL_cnt, 0.5)').alias('MedianURLcnt_byIP'))\n",
    "URLcnt_byIP_df.show()"
   ]
  },
  {
   "cell_type": "code",
   "execution_count": 38,
   "metadata": {},
   "outputs": [
    {
     "name": "stdout",
     "output_type": "stream",
     "text": [
      "+------------+\n",
      "|MedianURLcnt|\n",
      "+------------+\n",
      "|           3|\n",
      "+------------+\n",
      "\n"
     ]
    }
   ],
   "source": [
    "URLcnt_default_df = Session_URL_df.agg(expr('percentile_approx(Unique_URL_cnt, 0.5)').alias('MedianURLcnt'))\n",
    "URLcnt_default_df.show()"
   ]
  },
  {
   "cell_type": "markdown",
   "metadata": {},
   "source": [
    "## Other possible information for the later two problems\n",
    "* There's browser verion information in the data, but didn't figure out why each records have multiple. If we can identify the browser version, we can use browser brand and version information in the prediction\n",
    "* If there's patten in the URL that can fall into categories like 'home page' and 'item page'. This information can also be used for prediction"
   ]
  }
 ],
 "metadata": {
  "kernelspec": {
   "display_name": "Python 3",
   "language": "python",
   "name": "python3"
  },
  "language_info": {
   "codemirror_mode": {
    "name": "ipython",
    "version": 3
   },
   "file_extension": ".py",
   "mimetype": "text/x-python",
   "name": "python",
   "nbconvert_exporter": "python",
   "pygments_lexer": "ipython3",
   "version": "3.6.4"
  }
 },
 "nbformat": 4,
 "nbformat_minor": 2
}
